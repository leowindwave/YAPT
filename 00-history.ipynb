{
 "cells": [
  {
   "cell_type": "markdown",
   "metadata": {},
   "source": [
    "# A bit of history about computer programing"
   ]
  },
  {
   "cell_type": "markdown",
   "metadata": {},
   "source": [
    "## Contents\n",
    "\n",
    "1. [Assembling](#Assembling).\n",
    "2. [Compiling for the physical CPU](#Compiling).\n",
    "3. [Compiling for the Java virtual machine](#Compiling_Java).\n",
    "4. [Compiling for the Python virtual machine](#Compiling_Python).\n",
    "5. [Python Virtual Machines](#PVM)."
   ]
  },
  {
   "cell_type": "markdown",
   "metadata": {},
   "source": [
    "<a id='Assembling'></a>\n",
    "## [Assembling](https://en.wikipedia.org/wiki/Assembly_language#Historical_perspective) (1947)"
   ]
  },
  {
   "cell_type": "code",
   "execution_count": null,
   "metadata": {},
   "outputs": [],
   "source": [
    "!cat hello.c"
   ]
  },
  {
   "cell_type": "code",
   "execution_count": null,
   "metadata": {},
   "outputs": [],
   "source": [
    "!gcc -S hello.c"
   ]
  },
  {
   "cell_type": "code",
   "execution_count": null,
   "metadata": {},
   "outputs": [],
   "source": [
    "!cat hello.s"
   ]
  },
  {
   "cell_type": "code",
   "execution_count": null,
   "metadata": {},
   "outputs": [],
   "source": [
    "!gcc hello.s -o hello"
   ]
  },
  {
   "cell_type": "code",
   "execution_count": null,
   "metadata": {},
   "outputs": [],
   "source": [
    "!file hello"
   ]
  },
  {
   "cell_type": "code",
   "execution_count": null,
   "metadata": {},
   "outputs": [],
   "source": [
    "!./hello"
   ]
  },
  {
   "cell_type": "code",
   "execution_count": null,
   "metadata": {},
   "outputs": [],
   "source": [
    "!wc -c < hello"
   ]
  },
  {
   "cell_type": "markdown",
   "metadata": {},
   "source": [
    "<a id='Compiling'></a>\n",
    "## [Compiling](https://en.wikipedia.org/wiki/History_of_compiler_construction) (1951)"
   ]
  },
  {
   "cell_type": "code",
   "execution_count": null,
   "metadata": {},
   "outputs": [],
   "source": [
    "!gcc hello.c -o hello"
   ]
  },
  {
   "cell_type": "code",
   "execution_count": null,
   "metadata": {},
   "outputs": [],
   "source": [
    "!file hello"
   ]
  },
  {
   "cell_type": "code",
   "execution_count": null,
   "metadata": {},
   "outputs": [],
   "source": [
    "!wc -c < hello"
   ]
  },
  {
   "cell_type": "markdown",
   "metadata": {},
   "source": [
    "<a id='Compiling_Java'></a>\n",
    "## <a href=\"https://en.wikipedia.org/wiki/Java_(programming_language)\\#History\">Compiling Java</a> code (for the Java virtual machine) (1991)"
   ]
  },
  {
   "cell_type": "code",
   "execution_count": null,
   "metadata": {},
   "outputs": [],
   "source": [
    "!cat HelloWorld.java"
   ]
  },
  {
   "cell_type": "code",
   "execution_count": null,
   "metadata": {},
   "outputs": [],
   "source": [
    "!javac HelloWorld.java"
   ]
  },
  {
   "cell_type": "code",
   "execution_count": null,
   "metadata": {},
   "outputs": [],
   "source": [
    "!javap -c HelloWorld.class"
   ]
  },
  {
   "cell_type": "code",
   "execution_count": null,
   "metadata": {},
   "outputs": [],
   "source": [
    "!java HelloWorld"
   ]
  },
  {
   "cell_type": "markdown",
   "metadata": {},
   "source": [
    "<a id='Compiling_Python'></a>\n",
    "## [Running Python](https://es.wikipedia.org/wiki/Historia_de_Python) code in the Python virtual machine (1989)"
   ]
  },
  {
   "cell_type": "code",
   "execution_count": null,
   "metadata": {},
   "outputs": [],
   "source": [
    "!cat hello_world.py"
   ]
  },
  {
   "cell_type": "code",
   "execution_count": null,
   "metadata": {},
   "outputs": [],
   "source": [
    "!python hello_world.py "
   ]
  },
  {
   "cell_type": "code",
   "execution_count": null,
   "metadata": {},
   "outputs": [],
   "source": [
    "!python -m dis hello_world.py"
   ]
  },
  {
   "cell_type": "markdown",
   "metadata": {},
   "source": [
    "<a id='PVM'></a>\n",
    "## PVM (Python Virtual Machine) implementations"
   ]
  },
  {
   "cell_type": "markdown",
   "metadata": {},
   "source": [
    "There are several Python bytecode compilers and PVMs. The most comprehensive is [CPython](https://en.wikipedia.org/wiki/CPython) (C refers to the interpreter is written in the [C programming language](https://en.wikipedia.org/wiki/C_(programming_language)). Other implementations are [Jython](https://en.wikipedia.org/wiki/Jython) (written in [Java](https://en.wikipedia.org/wiki/Java_(programming_language)), [PyPy](https://en.wikipedia.org/wiki/PyPy) (written in [RPython](https://en.wikipedia.org/wiki/PyPy#RPython), a restricted subset of Python that incorporates [Psyco](https://en.wikipedia.org/wiki/Psyco), a [JIT compiler](https://en.wikipedia.org/wiki/Just-in-time_compilation)) and [IronPython](https://en.wikipedia.org/wiki/IronPython) (written in [C#](https://en.wikipedia.org/wiki/C_Sharp_(programming_language))."
   ]
  }
 ],
 "metadata": {
  "kernelspec": {
   "display_name": "Python 3",
   "language": "python",
   "name": "python3"
  },
  "language_info": {
   "codemirror_mode": {
    "name": "ipython",
    "version": 3
   },
   "file_extension": ".py",
   "mimetype": "text/x-python",
   "name": "python",
   "nbconvert_exporter": "python",
   "pygments_lexer": "ipython3",
   "version": "3.6.4"
  }
 },
 "nbformat": 4,
 "nbformat_minor": 2
}
